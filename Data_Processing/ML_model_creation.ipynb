{
 "nbformat": 4,
 "nbformat_minor": 2,
 "metadata": {
  "language_info": {
   "name": "python",
   "codemirror_mode": {
    "name": "ipython",
    "version": 3
   },
   "version": "3.8.2-final"
  },
  "orig_nbformat": 2,
  "file_extension": ".py",
  "mimetype": "text/x-python",
  "name": "python",
  "npconvert_exporter": "python",
  "pygments_lexer": "ipython3",
  "version": 3,
  "kernelspec": {
   "name": "python38264bit6f2a447d54674ab389900aea9b994f76",
   "display_name": "Python 3.8.2 64-bit"
  }
 },
 "cells": [
  {
   "cell_type": "markdown",
   "metadata": {},
   "source": [
    "## Model Creation .."
   ]
  },
  {
   "cell_type": "code",
   "execution_count": 3,
   "metadata": {},
   "outputs": [],
   "source": [
    "import xgboost as xgb\n",
    "from sklearn.datasets import load_boston\n",
    "from sklearn.model_selection import train_test_split\n",
    "from sklearn.linear_model import LinearRegression\n",
    "from sklearn.model_selection import cross_val_score, KFold\n",
    "from sklearn.metrics import mean_squared_error\n",
    "import matplotlib.pyplot as plt\n",
    "import pandas as pd\n",
    "import numpy as np"
   ]
  },
  {
   "cell_type": "code",
   "execution_count": 4,
   "metadata": {},
   "outputs": [
    {
     "output_type": "execute_result",
     "data": {
      "text/plain": "   LV ActivePower (kW)  Wind Speed (m/s)  Theoretical_Power_Curve (KWh)\n0           380.047791          5.311336                     416.328908\n1           453.769196          5.672167                     519.917511\n2           306.376587          5.216037                     390.900016\n3           419.645904          5.659674                     516.127569\n4           380.650696          5.577941                     491.702972",
      "text/html": "<div>\n<style scoped>\n    .dataframe tbody tr th:only-of-type {\n        vertical-align: middle;\n    }\n\n    .dataframe tbody tr th {\n        vertical-align: top;\n    }\n\n    .dataframe thead th {\n        text-align: right;\n    }\n</style>\n<table border=\"1\" class=\"dataframe\">\n  <thead>\n    <tr style=\"text-align: right;\">\n      <th></th>\n      <th>LV ActivePower (kW)</th>\n      <th>Wind Speed (m/s)</th>\n      <th>Theoretical_Power_Curve (KWh)</th>\n    </tr>\n  </thead>\n  <tbody>\n    <tr>\n      <th>0</th>\n      <td>380.047791</td>\n      <td>5.311336</td>\n      <td>416.328908</td>\n    </tr>\n    <tr>\n      <th>1</th>\n      <td>453.769196</td>\n      <td>5.672167</td>\n      <td>519.917511</td>\n    </tr>\n    <tr>\n      <th>2</th>\n      <td>306.376587</td>\n      <td>5.216037</td>\n      <td>390.900016</td>\n    </tr>\n    <tr>\n      <th>3</th>\n      <td>419.645904</td>\n      <td>5.659674</td>\n      <td>516.127569</td>\n    </tr>\n    <tr>\n      <th>4</th>\n      <td>380.650696</td>\n      <td>5.577941</td>\n      <td>491.702972</td>\n    </tr>\n  </tbody>\n</table>\n</div>"
     },
     "metadata": {},
     "execution_count": 4
    }
   ],
   "source": [
    "df = pd.read_csv('data_for_training.csv')\n",
    "df.head()"
   ]
  },
  {
   "cell_type": "code",
   "execution_count": 5,
   "metadata": {},
   "outputs": [
    {
     "output_type": "execute_result",
     "data": {
      "text/plain": "array([[   5.31133604,  416.3289078 ],\n       [   5.67216682,  519.9175111 ],\n       [   5.2160368 ,  390.9000158 ],\n       ...,\n       [   8.43535805, 1788.284755  ],\n       [   9.42136574, 2418.382503  ],\n       [   9.97933197, 2779.184096  ]])"
     },
     "metadata": {},
     "execution_count": 5
    }
   ],
   "source": [
    "x = df.iloc[:,1:]\n",
    "x.values"
   ]
  },
  {
   "cell_type": "code",
   "execution_count": 6,
   "metadata": {},
   "outputs": [
    {
     "output_type": "execute_result",
     "data": {
      "text/plain": "array([ 380.0477905,  453.7691956,  306.3765869, ..., 2201.106934 ,\n       2515.694092 , 2820.466064 ])"
     },
     "metadata": {},
     "execution_count": 6
    }
   ],
   "source": [
    "y = df.iloc[:,0]\n",
    "y.values"
   ]
  },
  {
   "cell_type": "code",
   "execution_count": 7,
   "metadata": {},
   "outputs": [],
   "source": [
    "xtrain, xtest, ytrain, ytest=train_test_split(x, y, test_size=0.10,random_state = 0)"
   ]
  },
  {
   "cell_type": "markdown",
   "metadata": {},
   "source": [
    "## Model selection and Hyperparameter optimization have been done by Watson AUTOAI Service .."
   ]
  },
  {
   "cell_type": "code",
   "execution_count": 8,
   "metadata": {},
   "outputs": [],
   "source": [
    "xgbr = xgb.XGBRegressor(gamma=0.10137883109108962, learning_rate=0.02, max_depth=2, min_child_weight=20, missing=float('nan'), n_estimators=707, n_jobs=2, random_state=33, reg_alpha=0.9575998867944943, silent=True, subsample=0.05498233327011234, verbosity=0)"
   ]
  },
  {
   "cell_type": "code",
   "execution_count": null,
   "metadata": {},
   "outputs": [],
   "source": []
  },
  {
   "cell_type": "code",
   "execution_count": 9,
   "metadata": {},
   "outputs": [
    {
     "output_type": "execute_result",
     "data": {
      "text/plain": "XGBRegressor(base_score=0.5, booster='gbtree', colsample_bylevel=1,\n             colsample_bynode=1, colsample_bytree=1, gamma=0.10137883109108962,\n             gpu_id=-1, importance_type='gain', interaction_constraints='',\n             learning_rate=0.02, max_delta_step=0, max_depth=2,\n             min_child_weight=20, missing=nan, monotone_constraints='()',\n             n_estimators=707, n_jobs=2, num_parallel_tree=1, random_state=33,\n             reg_alpha=0.9575998867944943, reg_lambda=1, scale_pos_weight=1,\n             silent=True, subsample=0.05498233327011234, tree_method='exact',\n             validate_parameters=1, verbosity=0)"
     },
     "metadata": {},
     "execution_count": 9
    }
   ],
   "source": [
    "xgbr.fit(xtrain, ytrain)"
   ]
  },
  {
   "cell_type": "markdown",
   "metadata": {},
   "source": [
    "## Checking the score of th model .."
   ]
  },
  {
   "cell_type": "code",
   "execution_count": 10,
   "metadata": {},
   "outputs": [
    {
     "output_type": "execute_result",
     "data": {
      "text/plain": "0.9094509762988079"
     },
     "metadata": {},
     "execution_count": 10
    }
   ],
   "source": [
    "score = xgbr.score(xtest, ytest)\n",
    "score"
   ]
  },
  {
   "cell_type": "markdown",
   "metadata": {},
   "source": [
    "## KFold Cross Validation Score of the Model .."
   ]
  },
  {
   "cell_type": "code",
   "execution_count": 23,
   "metadata": {},
   "outputs": [
    {
     "output_type": "stream",
     "name": "stdout",
     "text": "K-fold CV average score: 0.91\n"
    }
   ],
   "source": [
    "kfold = KFold(n_splits=10, shuffle=True)\n",
    "kf_cv_scores = cross_val_score(xgbr, xtrain, ytrain, cv=kfold )\n",
    "print(\"K-fold CV average score: %.2f\" % kf_cv_scores.mean())"
   ]
  },
  {
   "cell_type": "markdown",
   "metadata": {},
   "source": [
    "## Predciting Power from Castom User Input value .."
   ]
  },
  {
   "cell_type": "code",
   "execution_count": 25,
   "metadata": {},
   "outputs": [
    {
     "output_type": "stream",
     "name": "stdout",
     "text": "['Wind Speed (m/s)', 'Theoretical_Power_Curve (KWh)']\n"
    },
    {
     "output_type": "execute_result",
     "data": {
      "text/plain": "273.59332"
     },
     "metadata": {},
     "execution_count": 25
    }
   ],
   "source": [
    "wind_speed = 5\n",
    "theorytical_power = 1235\n",
    "\n",
    "series = {\n",
    "    'Wind Speed (m/s)':[wind_speed],\n",
    "    'Theoretical_Power_Curve (KWh)':[theorytical_power]\n",
    "}\n",
    "names = xgbr.get_booster().feature_names\n",
    "print(names)\n",
    "vector = pd.DataFrame(series)\n",
    "result = xgbr.predict(vector[names].iloc[[-1]])\n",
    "result[0]"
   ]
  },
  {
   "cell_type": "code",
   "execution_count": null,
   "metadata": {},
   "outputs": [],
   "source": []
  }
 ]
}